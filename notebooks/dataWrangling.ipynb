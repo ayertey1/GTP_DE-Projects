{
 "cells": [
  {
   "cell_type": "code",
   "execution_count": 2,
   "id": "80fb2e57",
   "metadata": {},
   "outputs": [],
   "source": [
    "import pandas as pd\n",
    "import numpy as np\n",
    "import ast\n"
   ]
  },
  {
   "cell_type": "code",
   "execution_count": 175,
   "id": "f2be9520",
   "metadata": {},
   "outputs": [],
   "source": [
    "#load data \n",
    "load_data = pd.read_csv('../data/raw/moviesData_08-04-2025_10-07-51.csv')\n",
    "\n",
    "#create dataframe\n",
    "df = pd.DataFrame(load_data)\n",
    "#df.head()"
   ]
  },
  {
   "cell_type": "code",
   "execution_count": null,
   "id": "e28f4dd9",
   "metadata": {},
   "outputs": [],
   "source": [
    "drop_cols = ['adult', 'imdb_id', 'original_title', 'video', 'homepage']\n",
    "df = df.drop(columns=drop_cols)\n",
    "# df.head(3)"
   ]
  },
  {
   "cell_type": "code",
   "execution_count": null,
   "id": "8ea55b18",
   "metadata": {},
   "outputs": [],
   "source": [
    "# Extracting nested columns in the data\n",
    "df['genres'] = df['genres'].apply(lambda x: \"|\".join([d['name'] for d in ast.literal_eval(x)]) if pd.notnull(x) else np.nan)\n",
    "\n",
    "df['belongs_to_collection'] = df['belongs_to_collection'].apply(lambda x: ast.literal_eval(x)['name'] if pd.notnull(x) else np.nan)\n",
    "\n",
    "df['production_countries'] = df['production_countries'].apply(lambda x: \"|\".join([d['name'] for d in ast.literal_eval(x)]) if pd.notnull(x) else np.nan)\n",
    "\n",
    "df['production_companies'] = df['production_companies'].apply(lambda x: \"|\".join([d['name'] for d in ast.literal_eval(x)]) if pd.notnull(x) else np.nan)\n",
    "\n",
    "df['spoken_languages'] = df['spoken_languages'].apply(lambda x: \"|\".join([d['english_name'] for d in ast.literal_eval(x)]) if pd.notnull(x) else np.nan)\n",
    "\n",
    "#new columns inclusion from nested \n",
    "\n",
    "\n"
   ]
  },
  {
   "cell_type": "code",
   "execution_count": 178,
   "id": "76e8488f",
   "metadata": {},
   "outputs": [],
   "source": [
    "df['genres'] = df['genres'].apply(lambda x: '|'.join(sorted(x.split('|'))))\n",
    "df['production_countries'] = df['production_countries'].apply(lambda x: '|'.join(sorted(x.split('|'))))\n",
    "df['spoken_languages'] = df['spoken_languages'].apply(lambda x: '|'.join(sorted(x.split('|'))))"
   ]
  },
  {
   "cell_type": "code",
   "execution_count": 157,
   "id": "e61870a2",
   "metadata": {},
   "outputs": [
    {
     "name": "stdout",
     "output_type": "stream",
     "text": [
      "genres\n",
      "Action|Adventure|Science Fiction             7\n",
      "Action|Adventure|Science Fiction|Thriller    2\n",
      "Action|Adventure|Fantasy|Science Fiction     1\n",
      "Drama|Romance                                1\n",
      "Adventure|Animation|Drama|Family             1\n",
      "Action|Crime|Thriller                        1\n",
      "Adventure|Fantasy                            1\n",
      "Adventure|Animation|Comedy|Family|Fantasy    1\n",
      "Adventure|Animation|Family|Fantasy           1\n",
      "Family|Fantasy|Romance                       1\n",
      "Action|Adventure|Animation|Family            1\n",
      "Name: count, dtype: int64\n",
      "belongs_to_collection\n",
      "The Avengers Collection                4\n",
      "Star Wars Collection                   2\n",
      "Frozen Collection                      2\n",
      "Jurassic Park Collection               2\n",
      "Avatar Collection                      1\n",
      "The Lion King (Reboot) Collection      1\n",
      "The Fast and the Furious Collection    1\n",
      "Black Panther Collection               1\n",
      "Harry Potter Collection                1\n",
      "The Incredibles Collection             1\n",
      "Name: count, dtype: int64\n",
      "production_countries\n",
      "United States of America                   16\n",
      "United Kingdom|United States of America     2\n",
      "Name: count, dtype: int64\n",
      "production_companies\n",
      "Marvel Studios                                                                  5\n",
      "Amblin Entertainment|Universal Pictures                                         2\n",
      "Walt Disney Pictures|Walt Disney Animation Studios                              2\n",
      "Dune Entertainment|Lightstorm Entertainment|20th Century Fox|Ingenious Media    1\n",
      "Paramount Pictures|20th Century Fox|Lightstorm Entertainment                    1\n",
      "Lucasfilm Ltd.|Bad Robot                                                        1\n",
      "Original Film|One Race|Universal Pictures                                       1\n",
      "Walt Disney Pictures|Fairview Entertainment                                     1\n",
      "Warner Bros. Pictures|Heyday Films                                              1\n",
      "Lucasfilm Ltd.                                                                  1\n",
      "Walt Disney Pictures|Mandeville Films                                           1\n",
      "Walt Disney Pictures|Pixar                                                      1\n",
      "Name: count, dtype: int64\n",
      "spoken_languages\n",
      "English                                          9\n",
      "English|Japanese|Xhosa                           1\n",
      "English|Spanish                                  1\n",
      "English|Xhosa                                    1\n",
      "English|French|German|Italian|Russian|Swedish    1\n",
      "English|Hindi|Russian                            1\n",
      "Arabic|English|Spanish|Thai                      1\n",
      "English|Korean|Swahili|Xhosa                     1\n",
      "English|Russian                                  1\n",
      "English|French                                   1\n",
      "Name: count, dtype: int64\n"
     ]
    }
   ],
   "source": [
    "print(df['genres'].value_counts())\n",
    "print(df['belongs_to_collection'].value_counts())\n",
    "print(df['production_countries'].value_counts())\n",
    "print(df['production_companies'].value_counts())\n",
    "print(df['spoken_languages'].value_counts())"
   ]
  },
  {
   "cell_type": "code",
   "execution_count": 160,
   "id": "af1467cc",
   "metadata": {},
   "outputs": [
    {
     "data": {
      "text/html": [
       "<div>\n",
       "<style scoped>\n",
       "    .dataframe tbody tr th:only-of-type {\n",
       "        vertical-align: middle;\n",
       "    }\n",
       "\n",
       "    .dataframe tbody tr th {\n",
       "        vertical-align: top;\n",
       "    }\n",
       "\n",
       "    .dataframe thead th {\n",
       "        text-align: right;\n",
       "    }\n",
       "</style>\n",
       "<table border=\"1\" class=\"dataframe\">\n",
       "  <thead>\n",
       "    <tr style=\"text-align: right;\">\n",
       "      <th></th>\n",
       "      <th>backdrop_path</th>\n",
       "      <th>belongs_to_collection</th>\n",
       "      <th>budget</th>\n",
       "      <th>genres</th>\n",
       "      <th>id</th>\n",
       "      <th>origin_country</th>\n",
       "      <th>original_language</th>\n",
       "      <th>overview</th>\n",
       "      <th>popularity</th>\n",
       "      <th>poster_path</th>\n",
       "      <th>...</th>\n",
       "      <th>release_date</th>\n",
       "      <th>revenue</th>\n",
       "      <th>runtime</th>\n",
       "      <th>spoken_languages</th>\n",
       "      <th>status</th>\n",
       "      <th>tagline</th>\n",
       "      <th>title</th>\n",
       "      <th>vote_average</th>\n",
       "      <th>vote_count</th>\n",
       "      <th>credits</th>\n",
       "    </tr>\n",
       "  </thead>\n",
       "  <tbody>\n",
       "    <tr>\n",
       "      <th>0</th>\n",
       "      <td>/7RyHsO4yDXtBv1zUU3mTpHeQ0d5.jpg</td>\n",
       "      <td>The Avengers Collection</td>\n",
       "      <td>356000000</td>\n",
       "      <td>Action|Adventure|Science Fiction</td>\n",
       "      <td>299534</td>\n",
       "      <td>['US']</td>\n",
       "      <td>en</td>\n",
       "      <td>After the devastating events of Avengers: Infi...</td>\n",
       "      <td>22.6136</td>\n",
       "      <td>/ulzhLuWrPK07P1YkdWQLZnQh1JL.jpg</td>\n",
       "      <td>...</td>\n",
       "      <td>2019-04-24</td>\n",
       "      <td>2799439100</td>\n",
       "      <td>181</td>\n",
       "      <td>English|Japanese|Xhosa</td>\n",
       "      <td>Released</td>\n",
       "      <td>Avenge the fallen.</td>\n",
       "      <td>Avengers: Endgame</td>\n",
       "      <td>8.238</td>\n",
       "      <td>26200</td>\n",
       "      <td>{'cast': [{'adult': False, 'gender': 2, 'id': ...</td>\n",
       "    </tr>\n",
       "  </tbody>\n",
       "</table>\n",
       "<p>1 rows × 22 columns</p>\n",
       "</div>"
      ],
      "text/plain": [
       "                      backdrop_path    belongs_to_collection     budget  \\\n",
       "0  /7RyHsO4yDXtBv1zUU3mTpHeQ0d5.jpg  The Avengers Collection  356000000   \n",
       "\n",
       "                             genres      id origin_country original_language  \\\n",
       "0  Action|Adventure|Science Fiction  299534         ['US']                en   \n",
       "\n",
       "                                            overview  popularity  \\\n",
       "0  After the devastating events of Avengers: Infi...     22.6136   \n",
       "\n",
       "                        poster_path  ... release_date     revenue runtime  \\\n",
       "0  /ulzhLuWrPK07P1YkdWQLZnQh1JL.jpg  ...   2019-04-24  2799439100     181   \n",
       "\n",
       "         spoken_languages    status             tagline              title  \\\n",
       "0  English|Japanese|Xhosa  Released  Avenge the fallen.  Avengers: Endgame   \n",
       "\n",
       "  vote_average vote_count                                            credits  \n",
       "0        8.238      26200  {'cast': [{'adult': False, 'gender': 2, 'id': ...  \n",
       "\n",
       "[1 rows x 22 columns]"
      ]
     },
     "execution_count": 160,
     "metadata": {},
     "output_type": "execute_result"
    }
   ],
   "source": [
    "# Convert budget, id, popularity to numeric\n",
    "df['budget'] = pd.to_numeric(df['budget'],errors='coerce')\n",
    "df['popularity'] = pd.to_numeric(df['popularity'], errors='coerce')\n",
    "df['id'] = pd.to_numeric(df['id'],errors='coerce')\n",
    "df['release_date'] = pd.to_datetime(df['release_date'], errors='coerce')\n",
    "df.head(1)"
   ]
  },
  {
   "cell_type": "code",
   "execution_count": 163,
   "id": "59f79ff3",
   "metadata": {},
   "outputs": [],
   "source": [
    "df[['budget', 'revenue', 'runtime']] = df[['budget', 'revenue', 'runtime']].replace(0, np.nan)"
   ]
  },
  {
   "cell_type": "code",
   "execution_count": null,
   "id": "3f6220ee",
   "metadata": {},
   "outputs": [],
   "source": []
  }
 ],
 "metadata": {
  "kernelspec": {
   "display_name": "Python 3",
   "language": "python",
   "name": "python3"
  },
  "language_info": {
   "codemirror_mode": {
    "name": "ipython",
    "version": 3
   },
   "file_extension": ".py",
   "mimetype": "text/x-python",
   "name": "python",
   "nbconvert_exporter": "python",
   "pygments_lexer": "ipython3",
   "version": "3.13.0"
  }
 },
 "nbformat": 4,
 "nbformat_minor": 5
}
